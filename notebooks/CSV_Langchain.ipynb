{
  "nbformat": 4,
  "nbformat_minor": 0,
  "metadata": {
    "colab": {
      "provenance": [],
      "collapsed_sections": [
        "oWuqeM9WXZzQ"
      ],
      "gpuType": "T4"
    },
    "kernelspec": {
      "name": "python3",
      "display_name": "Python 3"
    },
    "language_info": {
      "name": "python"
    },
    "accelerator": "GPU"
  },
  "cells": [
    {
      "cell_type": "code",
      "execution_count": null,
      "metadata": {
        "id": "2myYyDjZWlB_"
      },
      "outputs": [],
      "source": [
        "!pip install -q sentence-transformers langchain  chromadb accelerate==0.21.0 peft==0.4.0 bitsandbytes==0.40.2 transformers==4.31.0 trl==0.4.7 xformers"
      ]
    },
    {
      "cell_type": "code",
      "source": [
        "from transformers import LlamaTokenizer, LlamaForCausalLM, pipeline\n",
        "from langchain.llms import HuggingFacePipeline\n",
        "from langchain.agents.agent_types import AgentType\n",
        "from langchain.agents import create_csv_agent"
      ],
      "metadata": {
        "id": "33zBmJi_WwFX"
      },
      "execution_count": null,
      "outputs": []
    },
    {
      "cell_type": "code",
      "source": [
        "model_name = \"NousResearch/llama-2-7b-chat-hf\"\n",
        "tokenizer = LlamaTokenizer.from_pretrained(model_name)\n",
        "\n",
        "base_model = LlamaForCausalLM.from_pretrained(\n",
        "    model_name,\n",
        "    load_in_4bit=True,\n",
        "    device_map='auto',\n",
        ")"
      ],
      "metadata": {
        "id": "5SBulb9tW33M"
      },
      "execution_count": null,
      "outputs": []
    },
    {
      "cell_type": "code",
      "source": [
        "pipe = pipeline(\n",
        "    \"text-generation\",\n",
        "    model=base_model,\n",
        "    tokenizer=tokenizer,\n",
        "    max_length=4096,\n",
        "    temperature=1,\n",
        "    top_p=0.95,\n",
        "    repetition_penalty=1.15\n",
        ")\n",
        "llm = HuggingFacePipeline(pipeline=pipe)"
      ],
      "metadata": {
        "id": "za5OCSQpW9Qu"
      },
      "execution_count": null,
      "outputs": []
    },
    {
      "cell_type": "markdown",
      "source": [
        "## csv_agent"
      ],
      "metadata": {
        "id": "ckwoOVOZXXxG"
      }
    },
    {
      "cell_type": "code",
      "source": [
        "csv_path = \"/content/YourFILE.csv\"\n",
        "from langchain.agents.agent_types import AgentType\n",
        "\n",
        "from langchain.agents import create_csv_agent\n",
        "agent = create_csv_agent(llm,\n",
        "                         csv_path,\n",
        "                         verbose=True ,\n",
        "                         agent_type=AgentType.ZERO_SHOT_REACT_DESCRIPTION\n",
        "                         )"
      ],
      "metadata": {
        "id": "a5WgZxlVXDPC"
      },
      "execution_count": null,
      "outputs": []
    },
    {
      "cell_type": "code",
      "source": [
        "agent.run(\"how many rows are there?\")"
      ],
      "metadata": {
        "id": "xwlCWUx3XQ0D"
      },
      "execution_count": null,
      "outputs": []
    },
    {
      "cell_type": "code",
      "source": [
        "agent.run(\"how many columns are there?\")"
      ],
      "metadata": {
        "id": "0fc0rL2TXR4x"
      },
      "execution_count": null,
      "outputs": []
    },
    {
      "cell_type": "markdown",
      "source": [
        "## CSVLoader"
      ],
      "metadata": {
        "id": "oWuqeM9WXZzQ"
      }
    },
    {
      "cell_type": "code",
      "source": [
        "from langchain.document_loaders.csv_loader import CSVLoader\n",
        "\n",
        "loader = CSVLoader(file_path=\"/content/YourFILE.csv\")\n",
        "data = loader.load()"
      ],
      "metadata": {
        "id": "34rWyGW5Xdjd"
      },
      "execution_count": null,
      "outputs": []
    },
    {
      "cell_type": "code",
      "source": [
        "embed_model_id = 'sentence-transformers/all-MiniLM-L6-v2'\n",
        "embed_model = HuggingFaceEmbeddings(model_name=embed_model_id)"
      ],
      "metadata": {
        "id": "2tlgTWg-XqAj"
      },
      "execution_count": null,
      "outputs": []
    },
    {
      "cell_type": "code",
      "source": [
        "from langchain.vectorstores import Chroma\n",
        "vectordb = Chroma.from_documents(data, embedding=embed_model , persist_directory=\"DB\")"
      ],
      "metadata": {
        "id": "RnzILl4EXdg0"
      },
      "execution_count": null,
      "outputs": []
    },
    {
      "cell_type": "code",
      "source": [
        "from langchain.chains import ConversationalRetrievalChain\n",
        "\n",
        "chain = ConversationalRetrievalChain.from_llm(llm=llm , retriever=vectordb.as_retriever())"
      ],
      "metadata": {
        "id": "jDv5KfkSXdeX"
      },
      "execution_count": null,
      "outputs": []
    },
    {
      "cell_type": "code",
      "source": [
        "chain(\"ASK About Your Data\")"
      ],
      "metadata": {
        "id": "6Q15GhZhX1wj"
      },
      "execution_count": null,
      "outputs": []
    }
  ]
}